{
  "nbformat": 4,
  "nbformat_minor": 0,
  "metadata": {
    "colab": {
      "name": "mash_scraper.ipynb",
      "provenance": [],
      "collapsed_sections": [],
      "authorship_tag": "ABX9TyPCRZvSCNRvvjKxKAfI464t",
      "include_colab_link": true
    },
    "kernelspec": {
      "name": "python3",
      "display_name": "Python 3"
    },
    "language_info": {
      "name": "python"
    }
  },
  "cells": [
    {
      "cell_type": "markdown",
      "metadata": {
        "id": "view-in-github",
        "colab_type": "text"
      },
      "source": [
        "<a href=\"https://colab.research.google.com/github/aeholbrook/mash_scraper/blob/main/mash_scraper.ipynb\" target=\"_parent\"><img src=\"https://colab.research.google.com/assets/colab-badge.svg\" alt=\"Open In Colab\"/></a>"
      ]
    },
    {
      "cell_type": "code",
      "metadata": {
        "id": "hmJniO-hqbgf"
      },
      "source": [
        "import json\n",
        "from bs4 import BeautifulSoup\n",
        "import requests\n",
        "import pandas as pd\n",
        "from tqdm import tqdm \n",
        "import numpy as np\n",
        "import threading"
      ],
      "execution_count": null,
      "outputs": []
    },
    {
      "cell_type": "code",
      "metadata": {
        "id": "muxHsyGnoptc"
      },
      "source": [
        "def get_brew_data(href, url_base=\"https://www.brewersfriend.com\"):\n",
        "\n",
        "\n",
        "  new_resp = requests.get(url_base+href, headers ={'User-Agent': 'Mozilla/5.0'})\n",
        "\n",
        "  soup_2 = BeautifulSoup(new_resp.content, \"html.parser\")\n",
        "\n",
        "  name = soup_2.find(\"h3\",{\"itemprop\":\"name\"})\n",
        "  style = soup_2.find(\"span\",{\"class\":\"viewStats\"})\n",
        "  abv = soup_2.find(\"div\",{\"class\":\"abvMin\"})\n",
        "  ibu = soup_2.find(\"div\",{\"class\":\"ibuMin\"})\n",
        "  srm = soup_2.find(\"div\",{\"class\":\"srmMin\"})\n",
        "  score = soup_2.find(\"div\",{\"class\":\"reviews\"})\n",
        "  reviews = soup_2.find(\"div\",{\"class\":\"reviews\"})\n",
        "\n",
        "  if name != None: name = name.prettify().split(\"\\n\")[1][1:]\n",
        "  if style != None: style = style.prettify().split(\"\\n\")[5][2:]\n",
        "  if abv != None: abv = abv.prettify().split(\"\\n\")[1][1:-1]\n",
        "  if ibu != None: ibu = ibu.prettify().split(\"\\n\")[1][1:]\n",
        "  if srm != None: srm = srm.prettify().split(\"\\n\")[1][1:]\n",
        "  if score != None: score = score.prettify().split(\"\\n\")[25][3:]\n",
        "  if reviews != None: reviews = reviews.prettify().split(\"\\n\")[29][3:]\n",
        "  \n",
        "  df_list = pd.read_html(new_resp.text) # this parses all the tables in webpages to a list\n",
        "\n",
        "\n",
        "\n",
        "  return { \n",
        "    \"name\" : name,\n",
        "    \"style\" : style,\n",
        "    \"ABV\" : abv,\n",
        "    \"IBU\" : ibu,\n",
        "    \"SRM\" : srm,\n",
        "    \"score\" : score,\n",
        "    \"reviews\" : reviews,\n",
        "    \"fermentables\" : df_list[0][:-1].replace({'%':''}, regex=True),\n",
        "    \"hops\" : df_list[1][:-1].replace({'%':''}, regex=True),\n",
        "    \"other\" : df_list[3],\n",
        "    \"link\" : href }\n",
        "\n",
        "def get_hrefs(page_number, url_base=\"https://www.brewersfriend.com\"):\n",
        "  # connect to webpage\n",
        "  resp = requests.get(url_base+'/homebrew-recipes/page/'+str(page_number), headers={'User-Agent': 'Mozilla/5.0'})\n",
        "  # get BeautifulSoup object\n",
        "  soup = BeautifulSoup(resp.content, \"html.parser\")\n",
        "\n",
        "  hrefs = [item.get('href') for item in soup.find_all(\"a\", {\"class\": \"recipetitle\"})]\n",
        "\n",
        "  desc = \"Collecting data from page \" + str(page_number)\n",
        "\n",
        "  #threads = [threading.Thread(target=get_brew_data, args)]\n",
        "\n",
        "  data = [get_brew_data(href,url_base) for href in tqdm(hrefs, position=0, leave=False, desc = desc)]\n",
        "\n",
        "  return data\n",
        "\n",
        "\n",
        "\n",
        "\n",
        "def iterate_hrefs(start=1,stop=2):\n",
        "  return np.concatenate([get_hrefs(page_number) for page_number in range(start,stop)])\n",
        "  "
      ],
      "execution_count": null,
      "outputs": []
    },
    {
      "cell_type": "code",
      "metadata": {
        "colab": {
          "base_uri": "https://localhost:8080/"
        },
        "id": "QVdwPPN1ZJbo",
        "outputId": "ca32d232-3975-4e16-d9d3-f4c9d0bb99d6"
      },
      "source": [
        "test = iterate_hrefs(1,2)"
      ],
      "execution_count": null,
      "outputs": [
        {
          "output_type": "stream",
          "text": [
            ""
          ],
          "name": "stderr"
        }
      ]
    },
    {
      "cell_type": "code",
      "metadata": {
        "colab": {
          "base_uri": "https://localhost:8080/"
        },
        "id": "UBGNX38mkw22",
        "outputId": "8d17d693-798e-4ce3-e32b-cc8edf6f5f07"
      },
      "source": [
        "test"
      ],
      "execution_count": null,
      "outputs": [
        {
          "output_type": "execute_result",
          "data": {
            "text/plain": [
              "array([{'name': 'Avg. Perfect Northeast IPA (NEIPA)', 'style': 'All Grain', 'ABV': '6.5', 'IBU': '59.26', 'SRM': '5.2', 'score': '4.79', 'reviews': '33', 'link': '/homebrew/recipe/view/363082/avg-perfect-northeast-ipa-neipa-'},\n",
              "       {'name': 'Sierra Nevada Pale Ale Clone', 'style': 'All Grain', 'ABV': '5.58', 'IBU': '39.79', 'SRM': '8', 'score': '4.82', 'reviews': '28', 'link': '/homebrew/recipe/view/28546/sierra-nevada-pale-ale-clone'},\n",
              "       {'name': 'Vanilla Cream Ale', 'style': 'All Grain', 'ABV': '5.48', 'IBU': '19.44', 'SRM': '4.83', 'score': '4.76', 'reviews': '17', 'link': '/homebrew/recipe/view/1633/vanilla-cream-ale'},\n",
              "       {'name': 'Zombie Dust Clone - ALL GRAIN', 'style': 'All Grain', 'ABV': '5.94', 'IBU': '62.42', 'SRM': '8.5', 'score': '4.70', 'reviews': '10', 'link': '/homebrew/recipe/view/5916/zombie-dust-clone-all-grain'},\n",
              "       {'name': 'Russian River Pliny the Elder (original)', 'style': 'All Grain', 'ABV': '7.09', 'IBU': '232.89', 'SRM': '6.33', 'score': '4.67', 'reviews': '6', 'link': '/homebrew/recipe/view/37534/russian-river-pliny-the-elder-original-'},\n",
              "       {'name': 'Spotted Clown (New Glarus Spotted Cow clone)', 'style': 'All Grain', 'ABV': '5.36', 'IBU': '21.27', 'SRM': '5.94', 'score': '4.80', 'reviews': '5', 'link': '/homebrew/recipe/view/672/spotted-clown-new-glarus-spotted-cow-clone-'},\n",
              "       {'name': 'Chocolate Vanilla Porter', 'style': 'All Grain', 'ABV': '5.77', 'IBU': '31.36', 'SRM': '34.76', 'score': '4.00', 'reviews': '1', 'link': '/homebrew/recipe/view/29265/chocolate-vanilla-porter'},\n",
              "       {'name': 'Zombie Dust Clone - EXTRACT', 'style': 'Extract', 'ABV': '6.16', 'IBU': '70.18', 'SRM': '8.98', 'score': '4.67', 'reviews': '9', 'link': '/homebrew/recipe/view/5920/zombie-dust-clone-extract'},\n",
              "       {'name': 'Southern Tier Pumking clone', 'style': 'All Grain', 'ABV': '8.16', 'IBU': '50.22', 'SRM': '15.64', 'score': '4.69', 'reviews': '16', 'link': '/homebrew/recipe/view/16367/southern-tier-pumking-clone'},\n",
              "       {'name': 'Mango Habanero IPA', 'style': 'All Grain', 'ABV': '8.88', 'IBU': '98.09', 'SRM': '8.55', 'score': '5.00', 'reviews': '6', 'link': '/homebrew/recipe/view/61082/mango-habanero-ipa'},\n",
              "       {'name': 'Bakke Brygg Belgisk Blond 50 L', 'style': 'All Grain', 'ABV': '6.52', 'IBU': '18.54', 'SRM': '4.35', 'score': '3.80', 'reviews': '5', 'link': '/homebrew/recipe/view/89534/bakke-brygg-belgisk-blond-50-l'},\n",
              "       {'name': 'Tank 7 Clone', 'style': 'BIAB', 'ABV': '7.63', 'IBU': '41.11', 'SRM': '6.25', 'score': '5.00', 'reviews': '1', 'link': '/homebrew/recipe/view/23436/tank-7-clone'},\n",
              "       {'name': 'White IPA', 'style': 'All Grain', 'ABV': '6.2', 'IBU': '55.96', 'SRM': '3.91', 'score': '5.00', 'reviews': '2', 'link': '/homebrew/recipe/view/8361/white-ipa'},\n",
              "       {'name': 'Bells two hearted clone', 'style': 'All Grain', 'ABV': '7.14', 'IBU': '63.62', 'SRM': '8.1', 'score': '4.00', 'reviews': '6', 'link': '/homebrew/recipe/view/3837/bells-two-hearted-clone'},\n",
              "       {'name': 'Pilsner Urquell BYO clone', 'style': 'All Grain', 'ABV': '4.92', 'IBU': '36.45', 'SRM': '3.61', 'score': None, 'reviews': None, 'link': '/homebrew/recipe/view/3000/pilsner-urquell-byo-clone'},\n",
              "       {'name': 'Racer 5 IPA Clone', 'style': 'All Grain', 'ABV': '7.07', 'IBU': '69.72', 'SRM': '6.28', 'score': None, 'reviews': None, 'link': '/homebrew/recipe/view/23246/racer-5-ipa-clone'},\n",
              "       {'name': 'Sam Adams Rebel IPA Clone', 'style': 'Extract', 'ABV': '6.51', 'IBU': '45.32', 'SRM': '10.54', 'score': '4.00', 'reviews': '2', 'link': '/homebrew/recipe/view/106996/sam-adams-rebel-ipa-clone'},\n",
              "       {'name': 'Bakke Brygg HveteIPA 25 L', 'style': 'All Grain', 'ABV': '6.76', 'IBU': '64.26', 'SRM': '7.78', 'score': '4.33', 'reviews': '3', 'link': '/homebrew/recipe/view/73890/bakke-brygg-hveteipa-25-l'},\n",
              "       {'name': 'New Glarus Fat Squirrel Clone', 'style': 'All Grain', 'ABV': '4.61', 'IBU': '22.81', 'SRM': '12.56', 'score': None, 'reviews': None, 'link': '/homebrew/recipe/view/1435/new-glarus-fat-squirrel-clone'},\n",
              "       {'name': 'Hop Notch Clone', 'style': 'BIAB', 'ABV': '6.62', 'IBU': '71.54', 'SRM': '14.26', 'score': None, 'reviews': None, 'link': '/homebrew/recipe/view/10092/hop-notch-clone'}],\n",
              "      dtype=object)"
            ]
          },
          "metadata": {
            "tags": []
          },
          "execution_count": 318
        }
      ]
    },
    {
      "cell_type": "code",
      "metadata": {
        "id": "45Mkod58lE_w"
      },
      "source": [
        ""
      ],
      "execution_count": null,
      "outputs": []
    }
  ]
}